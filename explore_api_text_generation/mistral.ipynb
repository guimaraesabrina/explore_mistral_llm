{
 "cells": [
  {
   "cell_type": "markdown",
   "metadata": {},
   "source": [
    "# Mistral AI API\n",
    "## Explore bases"
   ]
  },
  {
   "cell_type": "markdown",
   "metadata": {},
   "source": [
    "## Summary\n",
    "- Text generation\n",
    "- Streamming\n",
    "- Async \n",
    "- Chat messages\n",
    "- Safe prompt\n",
    "- Guardrails"
   ]
  },
  {
   "cell_type": "markdown",
   "metadata": {},
   "source": [
    "# Install"
   ]
  },
  {
   "cell_type": "code",
   "execution_count": null,
   "metadata": {},
   "outputs": [],
   "source": [
    "# pip install mistralai"
   ]
  },
  {
   "cell_type": "markdown",
   "metadata": {},
   "source": [
    "# Imports"
   ]
  },
  {
   "cell_type": "code",
   "execution_count": 10,
   "metadata": {},
   "outputs": [],
   "source": [
    "import json\n",
    "import os \n",
    "\n",
    "from mistralai.client import MistralClient\n",
    "from mistralai.async_client import MistralAsyncClient\n",
    "from mistralai.models.chat_completion import ChatMessage"
   ]
  },
  {
   "cell_type": "markdown",
   "metadata": {},
   "source": [
    "# Get API Key\n",
    "## And set Mistral Client"
   ]
  },
  {
   "cell_type": "code",
   "execution_count": 3,
   "metadata": {},
   "outputs": [],
   "source": [
    "with open('api.json', 'r') as file:\n",
    "    data = json.load(file)"
   ]
  },
  {
   "cell_type": "code",
   "execution_count": 5,
   "metadata": {},
   "outputs": [],
   "source": [
    "api_key = data['apiKey']"
   ]
  },
  {
   "cell_type": "code",
   "execution_count": 15,
   "metadata": {},
   "outputs": [],
   "source": [
    "client = MistralClient(api_key=api_key)"
   ]
  },
  {
   "cell_type": "markdown",
   "metadata": {},
   "source": [
    "# Set model"
   ]
  },
  {
   "cell_type": "code",
   "execution_count": 4,
   "metadata": {},
   "outputs": [],
   "source": [
    "model_mistral_small = \"mistral-small-latest\"\n",
    "model_mistral_medium = \"mistral-medium-latest\"\n",
    "model_mistral_large = \"mistral-large-latest\""
   ]
  },
  {
   "cell_type": "markdown",
   "metadata": {},
   "source": [
    "# Text generation snippet"
   ]
  },
  {
   "cell_type": "code",
   "execution_count": 7,
   "metadata": {},
   "outputs": [
    {
     "name": "stdout",
     "output_type": "stream",
     "text": [
      "The \"best\" French cheese is subjective and depends on personal taste preferences. However, some popular and highly-regarded French cheeses include:\n",
      "\n",
      "1. Brie de Meaux - a soft, creamy cheese with a white rind and a rich, buttery flavor.\n",
      "2. Roquefort - a blue cheese made from sheep's milk, with a tangy, salty flavor and crumbly texture.\n",
      "3. Camembert - a soft, runny cheese with a bloomy rind and a strong, earthy flavor.\n",
      "4. Comté - a hard, nutty cheese made from cow's milk and aged for at least four months.\n",
      "5. Époisses - a soft, pungent cheese with a washed rind and a creamy, oozy texture.\n",
      "\n",
      "Ultimately, the best way to find your favorite French cheese is to try a variety and see which ones you enjoy the most.\n"
     ]
    }
   ],
   "source": [
    "chat_response = client.chat(\n",
    "    model=model_mistral_medium,\n",
    "    messages=[ChatMessage(role=\"user\", content=\"What is the best French cheese?\")]\n",
    ")\n",
    "\n",
    "print(chat_response.choices[0].message.content)"
   ]
  },
  {
   "cell_type": "markdown",
   "metadata": {},
   "source": [
    "# Streamming"
   ]
  },
  {
   "cell_type": "code",
   "execution_count": null,
   "metadata": {},
   "outputs": [],
   "source": [
    "messages = [\n",
    "    ChatMessage(role=\"user\", content=\"I want to cook a carrot cake. What is the best recipe?\")\n",
    "]\n",
    "\n",
    "stream_response = client.chat_stream(model=model_mistral_medium, messages=messages)\n",
    "\n",
    "for chunk in stream_response:\n",
    "    print(chunk.choices[0].delta.content)"
   ]
  },
  {
   "cell_type": "markdown",
   "metadata": {},
   "source": [
    "# Async generation"
   ]
  },
  {
   "cell_type": "code",
   "execution_count": 11,
   "metadata": {},
   "outputs": [],
   "source": [
    "async_client = MistralAsyncClient(api_key=api_key)"
   ]
  },
  {
   "cell_type": "code",
   "execution_count": null,
   "metadata": {},
   "outputs": [],
   "source": [
    "messages = [\n",
    "    ChatMessage(role=\"user\", content=\"What are the biggest stars in the galaxy?\")\n",
    "]\n",
    "\n",
    "async_response = async_client.chat_stream(model=model_mistral_medium, messages=messages)\n",
    "\n",
    "async for chunk in async_response: \n",
    "    print(chunk.choices[0].delta.content)"
   ]
  },
  {
   "cell_type": "markdown",
   "metadata": {},
   "source": [
    "# Chat Messages Mistral"
   ]
  },
  {
   "cell_type": "markdown",
   "metadata": {},
   "source": [
    "- Chat messages (messages) are a collection of prompts or messages, with each message having a specific role assigned to it, such as \"system,\" \"user,\" \"assistant,\" or \"tool.\"\n",
    "- A system message is an **optional** message that sets the behavior and context for an **AI assistant** in a conversation, such as **modifying its personality or providing specific instructions**. \n",
    "- A system message can include task instructions, personality traits, contextual information, creativity constraints, and other relevant guidelines to help the AI better understand and respond to the user's input.\n",
    "- A user message is a message sent from the **perspective of the human** in a conversation with an AI assistant. It typically provides a request, question, or comment that the AI assistant should respond to. \n",
    "- User prompts allow the human to **initiate and guide the conversation**, and they can be used to request information, ask for help, provide feedback, or engage in other types of interaction with the AI.\n",
    "- An assistant message is a **message sent by the AI assistant back to the user**. It is usually meant to reply to a previous user message by following its instructions, but you can also find it at the beginning of a conversation, for example to greet the user.\n",
    "- A **tool message** only appears in the context of **function calling**, it is used at the final response formulation step when the model has to format the tool call's output for the user. "
   ]
  },
  {
   "cell_type": "markdown",
   "metadata": {},
   "source": [
    "### WHEN TO user PROMPT VS. system MESSAGE THEN user MESSAGE?"
   ]
  },
  {
   "cell_type": "markdown",
   "metadata": {},
   "source": [
    "\n",
    "- You can either combine your system message and user message into a single user message or separate them into two distinct messages.\n",
    "- We recommend you experiment with both ways to determine which one works better for your specific use case."
   ]
  },
  {
   "cell_type": "markdown",
   "metadata": {},
   "source": [
    "# Safe prompt"
   ]
  },
  {
   "cell_type": "markdown",
   "metadata": {},
   "source": [
    "We also allow a convenient `safe_prompt` flag to force chat completion to be moderated against sensitive content"
   ]
  },
  {
   "cell_type": "code",
   "execution_count": 13,
   "metadata": {},
   "outputs": [],
   "source": [
    "# https://docs.mistral.ai/capabilities/guardrailing/"
   ]
  },
  {
   "cell_type": "code",
   "execution_count": null,
   "metadata": {},
   "outputs": [],
   "source": [
    "chat_response = client.chat(\n",
    "    model=\"mistral-large-latest\", \n",
    "    messages=ChatMessage(role=\"user\", content=\"Tell me a joke!\"),\n",
    "    safe_prompt=True\n",
    ")"
   ]
  }
 ],
 "metadata": {
  "kernelspec": {
   "display_name": "generative",
   "language": "python",
   "name": "python3"
  },
  "language_info": {
   "codemirror_mode": {
    "name": "ipython",
    "version": 3
   },
   "file_extension": ".py",
   "mimetype": "text/x-python",
   "name": "python",
   "nbconvert_exporter": "python",
   "pygments_lexer": "ipython3",
   "version": "3.10.0"
  }
 },
 "nbformat": 4,
 "nbformat_minor": 2
}
