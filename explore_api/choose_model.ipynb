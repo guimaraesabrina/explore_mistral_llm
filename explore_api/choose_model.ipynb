{
 "cells": [
  {
   "cell_type": "markdown",
   "metadata": {},
   "source": [
    "# How to choose the best Mistral model to use"
   ]
  },
  {
   "cell_type": "code",
   "execution_count": null,
   "metadata": {},
   "outputs": [],
   "source": [
    "# https://docs.mistral.ai/getting-started/models/"
   ]
  },
  {
   "cell_type": "markdown",
   "metadata": {},
   "source": [
    "Here are the details of the available versions:\n",
    "- `open-mistral-7b`: currently points to mistral-tiny-2312. It is used to be called mistral-tiny, which will be deprecated shortly.\n",
    "- `open-mixtral-8x7b`: currently points to mistral-small-2312. It is used to be called mistral-small, which will be deprecated shortly.\n",
    "- `open-mixtral-8x22b` points to open-mixtral-8x22b-2404.\n",
    "- `mistral-small-latest`: currently points to mistral-small-2402.\n",
    "- `mistral-medium-latest`: currently points to mistral-medium-2312. The previous mistral-medium has been dated and tagged as mistral-medium-2312. Mistral Medium will be deprecated shortly.\n",
    "- `mistral-large-latest`: currently points to mistral-large-2402.\n"
   ]
  }
 ],
 "metadata": {
  "kernelspec": {
   "display_name": "generative",
   "language": "python",
   "name": "python3"
  },
  "language_info": {
   "name": "python",
   "version": "3.10.0"
  }
 },
 "nbformat": 4,
 "nbformat_minor": 2
}
